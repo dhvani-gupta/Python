{
 "cells": [
  {
   "cell_type": "code",
   "execution_count": null,
   "metadata": {},
   "outputs": [],
   "source": [
    "#default value of parameter\n",
    "def greet(name,greeting=\"Hi\"):\n",
    "    print(greeting+','+name)\n",
    "greet(\"Dhvani\",\"Hello\")\n",
    "greet(\"Srishti\")"
   ]
  },
  {
   "cell_type": "code",
   "execution_count": null,
   "metadata": {},
   "outputs": [],
   "source": [
    "#local and global vars\n",
    "a =10 #global\n",
    "def sum():\n",
    "    y = 9 #local\n",
    "    return a+y\n",
    "print(sum())"
   ]
  },
  {
   "cell_type": "code",
   "execution_count": 15,
   "metadata": {},
   "outputs": [
    {
     "name": "stdout",
     "output_type": "stream",
     "text": [
      "Outside func global\n",
      "Inside func local\n"
     ]
    }
   ],
   "source": [
    "x = \"global\"\n",
    "def func():\n",
    "    global x\n",
    "    x = \"local\"\n",
    "    print(\"Inside func\",x)\n",
    "print(\"Outside func\",x)\n",
    "func()"
   ]
  },
  {
   "cell_type": "code",
   "execution_count": null,
   "metadata": {},
   "outputs": [],
   "source": [
    "#keyword parameters\n",
    "def sum(x,y):\n",
    "    return x+y\n",
    "\n",
    "print(sum(y=10,x=9))"
   ]
  },
  {
   "cell_type": "code",
   "execution_count": null,
   "metadata": {},
   "outputs": [],
   "source": [
    "# *args\n",
    "def fun(*args):\n",
    "    print(\"Hi\",args) #collects all the argument without having to alter function def.\n",
    "fun(\"abc\",123)\n",
    "\n",
    "def fun2(*args): #here we dont need to mention how many arguments the function needs.\n",
    "    sum = 0\n",
    "    for arg in args:\n",
    "        sum += arg\n",
    "    return sum\n",
    "fun2(6,7,8,3)\n",
    "    "
   ]
  },
  {
   "cell_type": "code",
   "execution_count": null,
   "metadata": {},
   "outputs": [],
   "source": [
    "# **kwargs\n",
    "def myFun(arg,**kwargs): #collects multiple keys and values\n",
    "    for key, value in kwargs.items():\n",
    "        print(\"%s == %s\" % (key, value))\n",
    "\n",
    "\n",
    "# Driver code\n",
    "myFun(\"Hi\",first='G', mid=\"O\", last='D')\n"
   ]
  },
  {
   "cell_type": "code",
   "execution_count": null,
   "metadata": {},
   "outputs": [],
   "source": [
    "# *args and **kwargs\n",
    "\n",
    "def fun(*args, **kwargs):\n",
    "    print(args,kwargs)\n",
    "fun(123,456,\"a\",\"key\" ,\"456\",k=\"abc\", abc=123, efg = 678)\n",
    "\n",
    "#args and kwargs are used for functions that we dont fully understand or those functions which have many features \n",
    "#that  we might not be aware of"
   ]
  },
  {
   "cell_type": "code",
   "execution_count": null,
   "metadata": {},
   "outputs": [],
   "source": [
    "#class\n",
    "class Vehicle:\n",
    "    def __init__(self,seating):\n",
    "        self.seating = seating\n",
    "    def calc_fare(self):\n",
    "        return self.seating*100\n",
    "class Bus(Vehicle):\n",
    "    def calc_fare(self):\n",
    "        total = super().calc_fare()\n",
    "        maintain = 0\n",
    "        if isinstance(self,Bus):\n",
    "            maintain = total*0.1\n",
    "        final = total+maintain\n",
    "        return final\n"
   ]
  },
  {
   "cell_type": "code",
   "execution_count": 74,
   "metadata": {},
   "outputs": [
    {
     "name": "stdout",
     "output_type": "stream",
     "text": [
      "Enter list:\n",
      "3 4 5\n",
      "Enter Tuple:\n",
      "5 6 7\n",
      "Enter Dict:\n",
      "Enter key and value: a 1\n",
      "Enter key and value: b 3\n",
      "Enter key and value: c 5\n",
      "a: [3, 4, 5] \n",
      " b: (5, 6, 7) \n",
      " c: {'a': '1', 'b': '3', 'c': '5'}\n",
      "List\n",
      "3\n",
      "4\n",
      "5\n",
      "Tuple\n",
      "5\n",
      "6\n",
      "7\n",
      "Dict\n",
      "('a', '1')\n",
      "('b', '3')\n",
      "('c', '5')\n"
     ]
    }
   ],
   "source": [
    "#collections as args to functions\n",
    "def fun(nums):\n",
    "    #mult = 1\n",
    "    for num in nums:\n",
    "        print(num) \n",
    "\n",
    "print(\"Enter list:\")\n",
    "a = list(map(int,input().split()))\n",
    "print(\"Enter Tuple:\")\n",
    "b= tuple(map(int,input().split()))\n",
    "print(\"Enter Dict:\")\n",
    "c = dict(input(\"Enter key and value: \").split() for _ in range(3))\n",
    "print(\"a:\",a,\"\\n\",\"b:\",b,\"\\n\",\"c:\",c)\n",
    "print(\"List\")\n",
    "fun(a)\n",
    "print(\"Tuple\")\n",
    "fun(b)\n",
    "print(\"Dict\")\n",
    "fun(c.items())"
   ]
  },
  {
   "cell_type": "code",
   "execution_count": 71,
   "metadata": {},
   "outputs": [
    {
     "name": "stdout",
     "output_type": "stream",
     "text": [
      "Sum of list 14\n",
      "Max of set 5\n",
      "Dict\n",
      "a 2\n",
      "b 3\n",
      "c 4\n",
      "d 5\n"
     ]
    }
   ],
   "source": [
    "def sum_coll(collection):\n",
    "    total = sum(collection)\n",
    "    return total\n",
    "def max_collection(collection):\n",
    "    maxnum = max(collection)\n",
    "    return maxnum\n",
    "def print_collection(collection):\n",
    "    for key ,val in collection.items():\n",
    "        print(key,val)\n",
    "\n",
    "list1 = [2,3,4,5]\n",
    "tuple1 = (2,3,4,5)\n",
    "set1 = {2,3,4,5}\n",
    "dict1= {\"a\":2,\"b\":3,\"c\":4,\"d\":5}\n",
    "print(\"Sum of list\",sum_coll(list1) )\n",
    "print(\"Max of set\",max_collection(set1 ))\n",
    "print(\"Dict\")\n",
    "print_collection(dict1)"
   ]
  },
  {
   "cell_type": "code",
   "execution_count": 2,
   "metadata": {},
   "outputs": [
    {
     "name": "stdout",
     "output_type": "stream",
     "text": [
      "Sum(1-25): 325\n",
      "Sum(50-76): 1701\n",
      "Sum(90-101): 1146\n"
     ]
    }
   ],
   "source": [
    "#Write a program to add the sum of digits from 1 to 25, 50 to 76 and 90 to 101 using three different for loops.\n",
    "sum1 = 0\n",
    "for i in range(1,26):\n",
    "    sum1+= i\n",
    "print(\"Sum(1-25):\",sum1)\n",
    "sum2 = 0\n",
    "for i in range(50,77):\n",
    "    sum2+= i\n",
    "print(\"Sum(50-76):\",sum2)\n",
    "sum3 = 0\n",
    "for i in range(90,102):\n",
    "    sum3+= i\n",
    "print(\"Sum(90-101):\",sum3)\n"
   ]
  },
  {
   "cell_type": "code",
   "execution_count": 5,
   "metadata": {},
   "outputs": [
    {
     "name": "stdout",
     "output_type": "stream",
     "text": [
      "325\n"
     ]
    }
   ],
   "source": [
    "def sum1(n,m):\n",
    "    sum2=0\n",
    "    for i in range(n,m+1):\n",
    "        sum2 +=i\n",
    "    return sum2\n",
    "print(sum1(1,25))\n",
    "        "
   ]
  },
  {
   "cell_type": "code",
   "execution_count": 7,
   "metadata": {},
   "outputs": [
    {
     "name": "stdout",
     "output_type": "stream",
     "text": [
      "120\n"
     ]
    }
   ],
   "source": [
    "#func for factorial\n",
    "def fact(n):\n",
    "    facto=1\n",
    "    for i in range(1,n+1):\n",
    "        facto *= i\n",
    "    return facto\n",
    "print(fact(5))"
   ]
  },
  {
   "cell_type": "code",
   "execution_count": 9,
   "metadata": {},
   "outputs": [
    {
     "name": "stdout",
     "output_type": "stream",
     "text": [
      "45\n"
     ]
    }
   ],
   "source": [
    "#func for max of n nos\n",
    "def maxnum(*args):\n",
    "    return max(args)\n",
    "print(maxnum(3,2,4,6,1,19,45))"
   ]
  },
  {
   "cell_type": "code",
   "execution_count": 13,
   "metadata": {},
   "outputs": [
    {
     "name": "stdout",
     "output_type": "stream",
     "text": [
      "Which opertaion?\n",
      "1. Add\n",
      "2. Sub\n",
      "3. Mult\n",
      "4. Div\n",
      "Enter Choice:\n",
      "3\n",
      "Enter Num1:\n",
      "2\n",
      "Enter Num2:\n",
      "5\n",
      "10\n"
     ]
    }
   ],
   "source": [
    "#funcs to create a calc\n",
    "def add(n,m):\n",
    "    return n+m\n",
    "def sub(n,m):\n",
    "    return n-m\n",
    "def mult(n,m):\n",
    "    return n*m\n",
    "def div(n,m):\n",
    "    if(n==0 or m==0):\n",
    "        return 0\n",
    "    else:\n",
    "        return n/m\n",
    "print(\"Which opertaion?\")\n",
    "print(\"1. Add\")\n",
    "print(\"2. Sub\")\n",
    "print(\"3. Mult\")\n",
    "print(\"4. Div\")\n",
    "print(\"Enter Choice:\")\n",
    "choice = int(input())\n",
    "print(\"Enter Num1:\")\n",
    "n = int(input())\n",
    "print(\"Enter Num2:\")\n",
    "m =int(input())\n",
    "if choice == 1:\n",
    "    print(add(n,m))\n",
    "elif choice ==2:\n",
    "    print(sub(n,m))\n",
    "elif choice == 3:\n",
    "    print(mult(n,m))\n",
    "elif choice ==4:\n",
    "    print(div(n,m))\n",
    "else:\n",
    "    print(\"Invalid choice\")\n",
    "    \n",
    "    "
   ]
  },
  {
   "cell_type": "code",
   "execution_count": 17,
   "metadata": {},
   "outputs": [
    {
     "name": "stdout",
     "output_type": "stream",
     "text": [
      "2.8284271247461903\n"
     ]
    }
   ],
   "source": [
    "#Write a function calc_Distance(x1, y1, x2, y2) to calculate the distance between two points represented by Point1(x1, y1) \n",
    "#and Point2 (x2, y2).\n",
    "def dist(x1,x2,y1,y2):\n",
    "    return (((x2-x1)**2 +(y2-y1)**2)**0.5)\n",
    "print(dist(4,2,4,2))"
   ]
  },
  {
   "cell_type": "code",
   "execution_count": 24,
   "metadata": {},
   "outputs": [
    {
     "name": "stdout",
     "output_type": "stream",
     "text": [
      "2.83\n"
     ]
    }
   ],
   "source": [
    "import math\n",
    "def dist(x,y,n,m):\n",
    "    dx = n-x\n",
    "    dx = math.pow(dx,2)\n",
    "    dy = m-y\n",
    "    dy = math.pow(dy,2)\n",
    "    distance = math.pow((dx+dy),0.5)\n",
    "    return distance\n",
    "print((format(dist(4,4,2,2),\".2f\")))"
   ]
  },
  {
   "cell_type": "markdown",
   "metadata": {},
   "source": [
    "\n",
    "Write a Python function named calculate_sales that takes a dictionary of sales data as an argument and returns a tuple containing the total sales, average sales, and best-selling product for the given data.\n",
    "\n",
    "The sales data dictionary has the following format:\n",
    "\n",
    "{\n",
    "\"Product A\": [100, 150, 200],\n",
    "\"Product B\": [50, 75, 100],\n",
    "\"Product C\": [200, 300, 400],\n",
    "}\n",
    "\n",
    "The function should calculate the total sales (i.e., the sum of all sales data), the average sales (i.e., the total sales divided by the number of items sold), and the best-selling product (i.e., the product with the highest total sales). The function shouldreturn these values as a tuple in the following order: (total_sales, average_sales,\n",
    "best_product)."
   ]
  },
  {
   "cell_type": "code",
   "execution_count": 39,
   "metadata": {},
   "outputs": [
    {
     "name": "stdout",
     "output_type": "stream",
     "text": [
      "Total Sales: 684\n",
      "Average Sales: 76.0\n",
      "Best-selling Product: Product A\n"
     ]
    }
   ],
   "source": [
    "def calc(sales):\n",
    "    total = sum(sum(sale) for sale in sales.values())\n",
    "    num = sum(len(sale) for sale in sales.values())\n",
    "    #print(num)\n",
    "    avg = total/num\n",
    "    best = max(sales,key=lambda p:sum(sales[p]))\n",
    "    return(total,avg,best)\n",
    "\n",
    "sales= { \"Product A\": [100, 150, 200], \n",
    "        \"Product B\": [50, 75, 100], \n",
    "        \"Product C\": [2, 3, 4],\n",
    "       }\n",
    "result = calc(sales)\n",
    "print(\"Total Sales:\", result[0])\n",
    "print(\"Average Sales:\", result[1])\n",
    "print(\"Best-selling Product:\", result[2])"
   ]
  },
  {
   "cell_type": "code",
   "execution_count": 42,
   "metadata": {},
   "outputs": [
    {
     "name": "stdout",
     "output_type": "stream",
     "text": [
      "Type Scalene\n",
      "Area 10.928746497197197\n"
     ]
    }
   ],
   "source": [
    "#find type of triangle and print its area\n",
    "def tri(a,b,c):\n",
    "    if a==b==c:\n",
    "        return \"Equilateral\" , None\n",
    "    elif a==b or a==c or b==c:\n",
    "        if a==b:\n",
    "            base = c\n",
    "            h = ((a**2) - ((c/2)**2))**0.5 #h = sqrt(a^2 +(base/2)^2)\n",
    "        elif a==c:\n",
    "            base = b\n",
    "            h = ((a**2) - ((b/2)**2))**0.5\n",
    "        elif b==c:\n",
    "            base = a\n",
    "            h = ((b**2) - ((a/2)**2))**0.5\n",
    "        area = 0.5*base*h\n",
    "        return \"Isoscles \", area\n",
    "    else:\n",
    "        s = (a+b+c)/2\n",
    "        area = (s*(s-a)*(s-b)*(s-c)) **0.5\n",
    "        return \"Scalene\",area\n",
    "tri_type,tri_area= tri(4,7,10)  #assigning multiple return values to variables\n",
    "print(\"Type\",tri_type)\n",
    "print(\"Area\",tri_area)"
   ]
  },
  {
   "cell_type": "code",
   "execution_count": 44,
   "metadata": {},
   "outputs": [
    {
     "name": "stdout",
     "output_type": "stream",
     "text": [
      "List before change [5, 8, 9]\n",
      "List after change [8, 8, 9, 4]\n"
     ]
    }
   ],
   "source": [
    "#passing param to func (mutable and immutable)\n",
    "#list is mutable\n",
    "def func(lst):\n",
    "    lst.append(4)\n",
    "    lst[0] = 8\n",
    "    return lst\n",
    "list1= [5,8,9]\n",
    "print(\"List before change\",list1)\n",
    "print(\"List after change\",func(list1))"
   ]
  },
  {
   "cell_type": "code",
   "execution_count": 58,
   "metadata": {},
   "outputs": [
    {
     "name": "stdout",
     "output_type": "stream",
     "text": [
      "tup before change (5, 8, 9)\n",
      "tup inside func (5, 8, 9)\n",
      "tup after change (5, 8, 9)\n"
     ]
    }
   ],
   "source": [
    "#tuple and set are immutable\n",
    "def func(lst):\n",
    "    #lst.append(4) ->'tuple' object has no attribute 'append'\n",
    "    #lst[0] = 8  -> 'tuple' object does not support item assignment\n",
    "    print(\"tup inside func\",lst)\n",
    "tup1= (5,8,9)\n",
    "print(\"tup before change\",tup1)\n",
    "func(tup1)\n",
    "print(\"tup after change\",tup1)"
   ]
  },
  {
   "cell_type": "code",
   "execution_count": 56,
   "metadata": {},
   "outputs": [
    {
     "name": "stdout",
     "output_type": "stream",
     "text": [
      "{'a': 6, 'b': 2, 'c': 3}\n"
     ]
    }
   ],
   "source": [
    "#dicts are mutable\n",
    "def func(dict1):\n",
    "    dict1['a'] = 6\n",
    "    return dict1\n",
    "dict1 = {'a':1,\"b\":2,\"c\":3}\n",
    "print(func(dict1))"
   ]
  },
  {
   "cell_type": "code",
   "execution_count": 82,
   "metadata": {},
   "outputs": [
    {
     "name": "stdout",
     "output_type": "stream",
     "text": [
      "5\n",
      "-1\n"
     ]
    }
   ],
   "source": [
    "#funcs as arg to other funcs\n",
    "def sum1(a,b):\n",
    "    return a+b\n",
    "def diff(a,b):\n",
    "    return a-b\n",
    "def ranges(func,n,m):\n",
    "    return func(n,m)\n",
    "res = ranges(sum1,2,3)\n",
    "res1 = ranges(diff,2,3)\n",
    "print(res)\n",
    "print(res1)"
   ]
  },
  {
   "cell_type": "code",
   "execution_count": 81,
   "metadata": {},
   "outputs": [
    {
     "name": "stdout",
     "output_type": "stream",
     "text": [
      "Hi\n",
      "Hi\n"
     ]
    }
   ],
   "source": [
    "def shout(txt):\n",
    "    return txt.upper()\n",
    "def whisper(txt):\n",
    "    return txt.lower()\n",
    "def greet(func):     #greet is a func that take a func type of arg and greeting \n",
    "                     #is calling both func using func.\n",
    "    greeting = func(\"Hi\")\n",
    "    print(greeting)\n",
    "greet(shout)\n",
    "greet(whisper)"
   ]
  },
  {
   "cell_type": "code",
   "execution_count": 88,
   "metadata": {},
   "outputs": [
    {
     "name": "stdout",
     "output_type": "stream",
     "text": [
      "8\n"
     ]
    }
   ],
   "source": [
    "#return func from func\n",
    "def create_adder(n):\n",
    "    def adder(x):\n",
    "        return x + n\n",
    "    return adder\n",
    "\n",
    "add5 = create_adder(5)\n",
    "result = add5(3) # equivalent to calling adder(3) where n=5\n",
    "print(result)"
   ]
  },
  {
   "cell_type": "code",
   "execution_count": 91,
   "metadata": {},
   "outputs": [
    {
     "name": "stdout",
     "output_type": "stream",
     "text": [
      "64\n"
     ]
    }
   ],
   "source": [
    "def square(x):\n",
    "    return x ** 2\n",
    "def cube(x):\n",
    "    return x ** 3\n",
    "def apply(func, x):\n",
    "    return func(x)\n",
    "def compose(func1, func2):\n",
    "    def composition(x):\n",
    "        return func1(func2(x))\n",
    "    return composition\n",
    "# Create a new function that applies the square of the cube of x\n",
    "new_func = compose(square, cube)\n",
    "result = apply(new_func, 2) # equivalent to calling square(cube(3))\n",
    "print(result)"
   ]
  },
  {
   "cell_type": "code",
   "execution_count": 97,
   "metadata": {},
   "outputs": [
    {
     "name": "stdout",
     "output_type": "stream",
     "text": [
      "9\n",
      "729\n"
     ]
    }
   ],
   "source": [
    "#mapping func to dict\n",
    "def sq(v):\n",
    "    return v**2\n",
    "def cube(x):\n",
    "    return x**3\n",
    "dict1= {\"square\":sq,\"cube\":cube}\n",
    "res1 = dict1[\"square\"](3)\n",
    "res2 = dict1[\"cube\"](res1) #(3^2 = 9; 9^3)\n",
    "print(res1)\n",
    "print(res2)"
   ]
  },
  {
   "cell_type": "markdown",
   "metadata": {},
   "source": [
    "# lambda func\n"
   ]
  },
  {
   "cell_type": "code",
   "execution_count": 101,
   "metadata": {},
   "outputs": [
    {
     "name": "stdout",
     "output_type": "stream",
     "text": [
      "5\n",
      "10\n"
     ]
    }
   ],
   "source": [
    "n = int(input())\n",
    "double = lambda x:x*2\n",
    "print(double(n))"
   ]
  },
  {
   "cell_type": "markdown",
   "metadata": {},
   "source": [
    "Applications of lambda:\n",
    "1)Filtering\n",
    "2)mapping\n",
    "3)Sorting\n",
    "4)GUI Prog\n",
    "5)Data analysis"
   ]
  },
  {
   "cell_type": "code",
   "execution_count": 102,
   "metadata": {},
   "outputs": [
    {
     "name": "stdout",
     "output_type": "stream",
     "text": [
      "[4, 6, 8, 10, 12]\n"
     ]
    }
   ],
   "source": [
    "#mapping\n",
    "nums = [2,3,4,5,6]\n",
    "doubles = list(map(lambda x:x *2,nums))\n",
    "print(doubles)"
   ]
  },
  {
   "cell_type": "code",
   "execution_count": 110,
   "metadata": {},
   "outputs": [
    {
     "name": "stdout",
     "output_type": "stream",
     "text": [
      "['anil', 'dhvani', 'ananya']\n"
     ]
    }
   ],
   "source": [
    "#filtering\n",
    "names = ['anil','saurabh','dhvani','rishabh','mehak','ananya']\n",
    "filter_list = list(filter(lambda x: x.startswith(('a','d')),names))\n",
    "print(filter_list)\n"
   ]
  },
  {
   "cell_type": "code",
   "execution_count": 116,
   "metadata": {},
   "outputs": [
    {
     "name": "stdout",
     "output_type": "stream",
     "text": [
      "['a', 'ab', 'abc', 'abcd']\n"
     ]
    }
   ],
   "source": [
    "#sorting\n",
    "lis1 = ['abc','abcd','ab','a']\n",
    "lis1.sort(key=lambda x:len(x))\n",
    "print(lis1)"
   ]
  },
  {
   "cell_type": "code",
   "execution_count": 123,
   "metadata": {},
   "outputs": [
    {
     "name": "stdout",
     "output_type": "stream",
     "text": [
      "[1, 2, 3, 4, 6]\n",
      "[1, 2, 3, 4, 6]\n"
     ]
    }
   ],
   "source": [
    "lis1 = [2,4,1,6,3]\n",
    "s = sorted(lis1, key=lambda x: x)\n",
    "k = sorted(lis1) #works either ways; lambda is an optional key arg here. \n",
    "print(s)\n",
    "print(k)"
   ]
  },
  {
   "cell_type": "code",
   "execution_count": 124,
   "metadata": {},
   "outputs": [],
   "source": [
    "#gui prog\n",
    "import tkinter as tk"
   ]
  },
  {
   "cell_type": "code",
   "execution_count": 125,
   "metadata": {},
   "outputs": [],
   "source": [
    "def change_label():\n",
    "    label.config(text = \"Button clicked\")\n",
    "window = tk.Tk()\n",
    "label = tk.Label(window, text =\"Click the button\")\n",
    "button =  tk.Button(window,text = \"Click me\", command= lambda:change_label())\n",
    "label.pack()\n",
    "button.pack()\n",
    "window.mainloop()\n"
   ]
  },
  {
   "cell_type": "code",
   "execution_count": 131,
   "metadata": {},
   "outputs": [
    {
     "name": "stdout",
     "output_type": "stream",
     "text": [
      "Slope 0.7999999999999999\n",
      "Intercept 1.7999999999999998\n"
     ]
    }
   ],
   "source": [
    "#data analysis\n",
    "import numpy as np\n",
    "arr1 = np.array([1,2,3,4,5])\n",
    "arr2 = np.array([2,4,5,4,6])\n",
    "linear_reg = lambda x,m,c:m*x +c\n",
    "m,c = np.polyfit(arr1,arr2,1)\n",
    "print(\"Slope\",m)\n",
    "print(\"Intercept\",c)"
   ]
  },
  {
   "cell_type": "code",
   "execution_count": null,
   "metadata": {},
   "outputs": [],
   "source": []
  },
  {
   "cell_type": "code",
   "execution_count": null,
   "metadata": {},
   "outputs": [],
   "source": []
  }
 ],
 "metadata": {
  "kernelspec": {
   "display_name": "Python 3",
   "language": "python",
   "name": "python3"
  },
  "language_info": {
   "codemirror_mode": {
    "name": "ipython",
    "version": 3
   },
   "file_extension": ".py",
   "mimetype": "text/x-python",
   "name": "python",
   "nbconvert_exporter": "python",
   "pygments_lexer": "ipython3",
   "version": "3.7.4"
  }
 },
 "nbformat": 4,
 "nbformat_minor": 2
}
