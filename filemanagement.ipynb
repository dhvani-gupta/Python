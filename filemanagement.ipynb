{
 "cells": [
  {
   "cell_type": "code",
   "execution_count": 7,
   "metadata": {},
   "outputs": [
    {
     "name": "stdout",
     "output_type": "stream",
     "text": [
      "Note: you may need to restart the kernel to use updated packages.\n"
     ]
    },
    {
     "name": "stderr",
     "output_type": "stream",
     "text": [
      "'C:\\Users\\BEST' is not recognized as an internal or external command,\n",
      "operable program or batch file.\n"
     ]
    }
   ],
   "source": [
    "pip install sys\n"
   ]
  },
  {
   "cell_type": "code",
   "execution_count": 8,
   "metadata": {},
   "outputs": [
    {
     "name": "stdout",
     "output_type": "stream",
     "text": [
      "Enter list of nums\n"
     ]
    }
   ],
   "source": [
    "sys.stdout.write(\"Enter list of nums\")\n",
    "#sys.stdout.flush() #A data buffer is a region of physical memory storage used to temporarily store data while it is being moved from one place to another\n",
    "input_line = sys.stdin.readline().strip()\n",
    "nums = input_line.strip()\n",
    "print(nums)"
   ]
  },
  {
   "cell_type": "code",
   "execution_count": 9,
   "metadata": {},
   "outputs": [],
   "source": [
    "import io"
   ]
  },
  {
   "cell_type": "code",
   "execution_count": 49,
   "metadata": {},
   "outputs": [
    {
     "name": "stdout",
     "output_type": "stream",
     "text": [
      "['hi']\n"
     ]
    }
   ],
   "source": [
    "with open(\"sample.txt\",\"r\") as input_file:\n",
    "    input_stream = str(input_file.readlines())\n",
    "print(input_stream)\n",
    "with open(\"sample.txt\",\"w\") as output_file:\n",
    "    output_file.write(\"010\")"
   ]
  },
  {
   "cell_type": "code",
   "execution_count": 50,
   "metadata": {},
   "outputs": [
    {
     "name": "stdout",
     "output_type": "stream",
     "text": [
      "[b'010']\n"
     ]
    }
   ],
   "source": [
    "with open(\"sample.txt\",\"rb\") as inp_file:\n",
    "    inp_str = inp_file.readlines()\n",
    "print(inp_str)"
   ]
  },
  {
   "cell_type": "code",
   "execution_count": 45,
   "metadata": {},
   "outputs": [],
   "source": [
    "data = [\n",
    "    ['name','age','gender'],\n",
    "    ['alice','24','F'],\n",
    "    ['Bob','27','M'],\n",
    "    ['Charlie','25',\"M\"]\n",
    "]\n",
    "with open('sample.csv','a') as inp:\n",
    "    writer  = csv.writer(inp)\n",
    "    writer.writerows(data)\n"
   ]
  },
  {
   "cell_type": "code",
   "execution_count": 46,
   "metadata": {},
   "outputs": [
    {
     "name": "stdout",
     "output_type": "stream",
     "text": [
      "['name', 'age', 'gender']\n",
      "[]\n",
      "['alice', '23', 'F']\n",
      "[]\n",
      "['Bob', '26', 'M']\n",
      "[]\n",
      "['Charlie', '25', 'M']\n",
      "[]\n",
      "['name', 'age', 'gender']\n",
      "[]\n",
      "['alice', '24', 'F']\n",
      "[]\n",
      "['Bob', '27', 'M']\n",
      "[]\n",
      "['Charlie', '25', 'M']\n",
      "[]\n"
     ]
    }
   ],
   "source": [
    "with open(\"sample.csv\") as out:\n",
    "    reader = csv.reader(out)\n",
    "    for row in reader:\n",
    "        print(row)"
   ]
  },
  {
   "cell_type": "code",
   "execution_count": 52,
   "metadata": {},
   "outputs": [],
   "source": [
    "# with open(\"sample.txt\",'x') as new_file: \n",
    "# file mode \"x\" is for exclusive creation and fails if file already exists-> error:File exists: 'sample.txt'\n",
    "#     inp_str = new_file.readlines()\n",
    "# print(inp_str)"
   ]
  },
  {
   "cell_type": "code",
   "execution_count": 78,
   "metadata": {},
   "outputs": [
    {
     "name": "stdout",
     "output_type": "stream",
     "text": [
      "       0  1   2       3\n",
      "0     hi  i  am  dhvani\n",
      "1  hello  a   b       c\n"
     ]
    }
   ],
   "source": [
    "#creating dataframes\n",
    "import pandas as pd\n",
    "import numpy as np\n",
    "lst = [\n",
    "    ['hi','i','am','dhvani'],\n",
    "    ['hello','a','b','c']\n",
    "]\n",
    "df = pd.DataFrame(lst)\n",
    "print(df)"
   ]
  },
  {
   "cell_type": "code",
   "execution_count": 79,
   "metadata": {},
   "outputs": [
    {
     "name": "stdout",
     "output_type": "stream",
     "text": [
      "  Name   age\n",
      "0    a  23.0\n",
      "1    b   NaN\n",
      "2    c  45.0\n"
     ]
    }
   ],
   "source": [
    "#creating dataframes from dict\n",
    "data = {'Name': ['a','b','c'],\n",
    "       'age':[23,np.nan,45]}\n",
    "df= pd.DataFrame(data)\n",
    "print(df)"
   ]
  },
  {
   "cell_type": "code",
   "execution_count": 80,
   "metadata": {},
   "outputs": [
    {
     "name": "stdout",
     "output_type": "stream",
     "text": [
      "0    23.0\n",
      "1     NaN\n",
      "2    45.0\n",
      "Name: age, dtype: float64\n"
     ]
    }
   ],
   "source": [
    "#accessing a particular column\n",
    "import pandas as pd\n",
    " \n",
    "# select two columns\n",
    "print(df[\"age\"])"
   ]
  },
  {
   "cell_type": "code",
   "execution_count": 81,
   "metadata": {},
   "outputs": [
    {
     "name": "stdout",
     "output_type": "stream",
     "text": [
      "Name     c\n",
      "age     45\n",
      "Name: 2, dtype: object\n"
     ]
    }
   ],
   "source": [
    "first = df.iloc[2]\n",
    "print(first)"
   ]
  },
  {
   "cell_type": "code",
   "execution_count": 83,
   "metadata": {},
   "outputs": [
    {
     "data": {
      "text/html": [
       "<div>\n",
       "<style scoped>\n",
       "    .dataframe tbody tr th:only-of-type {\n",
       "        vertical-align: middle;\n",
       "    }\n",
       "\n",
       "    .dataframe tbody tr th {\n",
       "        vertical-align: top;\n",
       "    }\n",
       "\n",
       "    .dataframe thead th {\n",
       "        text-align: right;\n",
       "    }\n",
       "</style>\n",
       "<table border=\"1\" class=\"dataframe\">\n",
       "  <thead>\n",
       "    <tr style=\"text-align: right;\">\n",
       "      <th></th>\n",
       "      <th>Name</th>\n",
       "      <th>age</th>\n",
       "    </tr>\n",
       "  </thead>\n",
       "  <tbody>\n",
       "    <tr>\n",
       "      <td>0</td>\n",
       "      <td>True</td>\n",
       "      <td>True</td>\n",
       "    </tr>\n",
       "    <tr>\n",
       "      <td>1</td>\n",
       "      <td>True</td>\n",
       "      <td>False</td>\n",
       "    </tr>\n",
       "    <tr>\n",
       "      <td>2</td>\n",
       "      <td>True</td>\n",
       "      <td>True</td>\n",
       "    </tr>\n",
       "  </tbody>\n",
       "</table>\n",
       "</div>"
      ],
      "text/plain": [
       "   Name    age\n",
       "0  True   True\n",
       "1  True  False\n",
       "2  True   True"
      ]
     },
     "execution_count": 83,
     "metadata": {},
     "output_type": "execute_result"
    }
   ],
   "source": [
    "df.notnull()"
   ]
  },
  {
   "cell_type": "code",
   "execution_count": 84,
   "metadata": {},
   "outputs": [
    {
     "data": {
      "text/html": [
       "<div>\n",
       "<style scoped>\n",
       "    .dataframe tbody tr th:only-of-type {\n",
       "        vertical-align: middle;\n",
       "    }\n",
       "\n",
       "    .dataframe tbody tr th {\n",
       "        vertical-align: top;\n",
       "    }\n",
       "\n",
       "    .dataframe thead th {\n",
       "        text-align: right;\n",
       "    }\n",
       "</style>\n",
       "<table border=\"1\" class=\"dataframe\">\n",
       "  <thead>\n",
       "    <tr style=\"text-align: right;\">\n",
       "      <th></th>\n",
       "      <th>Name</th>\n",
       "      <th>age</th>\n",
       "    </tr>\n",
       "  </thead>\n",
       "  <tbody>\n",
       "    <tr>\n",
       "      <td>0</td>\n",
       "      <td>False</td>\n",
       "      <td>False</td>\n",
       "    </tr>\n",
       "    <tr>\n",
       "      <td>1</td>\n",
       "      <td>False</td>\n",
       "      <td>True</td>\n",
       "    </tr>\n",
       "    <tr>\n",
       "      <td>2</td>\n",
       "      <td>False</td>\n",
       "      <td>False</td>\n",
       "    </tr>\n",
       "  </tbody>\n",
       "</table>\n",
       "</div>"
      ],
      "text/plain": [
       "    Name    age\n",
       "0  False  False\n",
       "1  False   True\n",
       "2  False  False"
      ]
     },
     "execution_count": 84,
     "metadata": {},
     "output_type": "execute_result"
    }
   ],
   "source": [
    "df.isnull()"
   ]
  },
  {
   "cell_type": "code",
   "execution_count": 93,
   "metadata": {},
   "outputs": [],
   "source": [
    "df = df.fillna(0)"
   ]
  },
  {
   "cell_type": "code",
   "execution_count": 94,
   "metadata": {},
   "outputs": [
    {
     "data": {
      "text/html": [
       "<div>\n",
       "<style scoped>\n",
       "    .dataframe tbody tr th:only-of-type {\n",
       "        vertical-align: middle;\n",
       "    }\n",
       "\n",
       "    .dataframe tbody tr th {\n",
       "        vertical-align: top;\n",
       "    }\n",
       "\n",
       "    .dataframe thead th {\n",
       "        text-align: right;\n",
       "    }\n",
       "</style>\n",
       "<table border=\"1\" class=\"dataframe\">\n",
       "  <thead>\n",
       "    <tr style=\"text-align: right;\">\n",
       "      <th></th>\n",
       "      <th>Name</th>\n",
       "      <th>age</th>\n",
       "    </tr>\n",
       "  </thead>\n",
       "  <tbody>\n",
       "    <tr>\n",
       "      <td>0</td>\n",
       "      <td>a</td>\n",
       "      <td>23.0</td>\n",
       "    </tr>\n",
       "    <tr>\n",
       "      <td>1</td>\n",
       "      <td>b</td>\n",
       "      <td>0.0</td>\n",
       "    </tr>\n",
       "    <tr>\n",
       "      <td>2</td>\n",
       "      <td>c</td>\n",
       "      <td>45.0</td>\n",
       "    </tr>\n",
       "  </tbody>\n",
       "</table>\n",
       "</div>"
      ],
      "text/plain": [
       "  Name   age\n",
       "0    a  23.0\n",
       "1    b   0.0\n",
       "2    c  45.0"
      ]
     },
     "execution_count": 94,
     "metadata": {},
     "output_type": "execute_result"
    }
   ],
   "source": [
    "df"
   ]
  },
  {
   "cell_type": "code",
   "execution_count": 111,
   "metadata": {},
   "outputs": [],
   "source": [
    "data = {\n",
    "    \"Name\": [\"A\",\"B\",\"C\",\"D\",\"E\"],\n",
    "    \"Age\":[23,34,45,56,67],\n",
    "    \"Gender\":['M','F','M','F','M'],\n",
    "    \"POST\":['CEO','CFO','MANAGER','ASST. MANAGER','INTERN'],\n",
    "    \"Salary\":[1000,2000,3000,4000,500]\n",
    "            }\n",
    "df = pd.DataFrame(data)"
   ]
  },
  {
   "cell_type": "code",
   "execution_count": 112,
   "metadata": {},
   "outputs": [
    {
     "data": {
      "text/html": [
       "<div>\n",
       "<style scoped>\n",
       "    .dataframe tbody tr th:only-of-type {\n",
       "        vertical-align: middle;\n",
       "    }\n",
       "\n",
       "    .dataframe tbody tr th {\n",
       "        vertical-align: top;\n",
       "    }\n",
       "\n",
       "    .dataframe thead th {\n",
       "        text-align: right;\n",
       "    }\n",
       "</style>\n",
       "<table border=\"1\" class=\"dataframe\">\n",
       "  <thead>\n",
       "    <tr style=\"text-align: right;\">\n",
       "      <th></th>\n",
       "      <th>Name</th>\n",
       "      <th>Age</th>\n",
       "      <th>Gender</th>\n",
       "      <th>POST</th>\n",
       "      <th>Salary</th>\n",
       "    </tr>\n",
       "  </thead>\n",
       "  <tbody>\n",
       "    <tr>\n",
       "      <td>0</td>\n",
       "      <td>A</td>\n",
       "      <td>23</td>\n",
       "      <td>M</td>\n",
       "      <td>CEO</td>\n",
       "      <td>1000</td>\n",
       "    </tr>\n",
       "    <tr>\n",
       "      <td>1</td>\n",
       "      <td>B</td>\n",
       "      <td>34</td>\n",
       "      <td>F</td>\n",
       "      <td>CFO</td>\n",
       "      <td>2000</td>\n",
       "    </tr>\n",
       "    <tr>\n",
       "      <td>2</td>\n",
       "      <td>C</td>\n",
       "      <td>45</td>\n",
       "      <td>M</td>\n",
       "      <td>MANAGER</td>\n",
       "      <td>3000</td>\n",
       "    </tr>\n",
       "    <tr>\n",
       "      <td>3</td>\n",
       "      <td>D</td>\n",
       "      <td>56</td>\n",
       "      <td>F</td>\n",
       "      <td>ASST. MANAGER</td>\n",
       "      <td>4000</td>\n",
       "    </tr>\n",
       "    <tr>\n",
       "      <td>4</td>\n",
       "      <td>E</td>\n",
       "      <td>67</td>\n",
       "      <td>M</td>\n",
       "      <td>INTERN</td>\n",
       "      <td>500</td>\n",
       "    </tr>\n",
       "  </tbody>\n",
       "</table>\n",
       "</div>"
      ],
      "text/plain": [
       "  Name  Age Gender           POST  Salary\n",
       "0    A   23      M            CEO    1000\n",
       "1    B   34      F            CFO    2000\n",
       "2    C   45      M        MANAGER    3000\n",
       "3    D   56      F  ASST. MANAGER    4000\n",
       "4    E   67      M         INTERN     500"
      ]
     },
     "execution_count": 112,
     "metadata": {},
     "output_type": "execute_result"
    }
   ],
   "source": [
    "df"
   ]
  },
  {
   "cell_type": "code",
   "execution_count": 113,
   "metadata": {},
   "outputs": [
    {
     "name": "stdout",
     "output_type": "stream",
     "text": [
      "0    M\n",
      "1    F\n",
      "2    M\n",
      "3    F\n",
      "4    M\n",
      "Name: Gender, dtype: object\n"
     ]
    }
   ],
   "source": [
    "print(df['Gender'])"
   ]
  },
  {
   "cell_type": "code",
   "execution_count": 114,
   "metadata": {},
   "outputs": [
    {
     "name": "stdout",
     "output_type": "stream",
     "text": [
      "  Name  Age Gender           POST  Salary\n",
      "2    C   45      M        MANAGER    3000\n",
      "3    D   56      F  ASST. MANAGER    4000\n",
      "4    E   67      M         INTERN     500\n"
     ]
    }
   ],
   "source": [
    "print(df[df['Age']>44])"
   ]
  },
  {
   "cell_type": "code",
   "execution_count": 115,
   "metadata": {},
   "outputs": [
    {
     "name": "stdout",
     "output_type": "stream",
     "text": [
      "        Age  Salary\n",
      "Gender             \n",
      "F        45    3000\n",
      "M        45    1500\n"
     ]
    }
   ],
   "source": [
    "group = df.groupby(\"Gender\").agg({'Age':'mean','Salary':'mean'})\n",
    "print(group)"
   ]
  },
  {
   "cell_type": "code",
   "execution_count": 121,
   "metadata": {},
   "outputs": [
    {
     "name": "stdout",
     "output_type": "stream",
     "text": [
      "             Age       Salary\n",
      "count   5.000000     5.000000\n",
      "mean   45.000000  2100.000000\n",
      "std    17.392527  1431.782106\n",
      "min    23.000000   500.000000\n",
      "25%    34.000000  1000.000000\n",
      "50%    45.000000  2000.000000\n",
      "75%    56.000000  3000.000000\n",
      "max    67.000000  4000.000000\n"
     ]
    }
   ],
   "source": [
    "summary = df[['Age','Salary']].describe()\n",
    "print(summary)"
   ]
  },
  {
   "cell_type": "code",
   "execution_count": 126,
   "metadata": {},
   "outputs": [
    {
     "name": "stdout",
     "output_type": "stream",
     "text": [
      "0\n",
      "2\n",
      "4\n",
      "6\n",
      "8\n",
      "10\n",
      "12\n",
      "14\n",
      "16\n",
      "18\n",
      "20\n",
      "22\n",
      "24\n",
      "26\n",
      "28\n",
      "30\n",
      "32\n",
      "34\n",
      "36\n",
      "38\n"
     ]
    }
   ],
   "source": [
    "#creating streams \n",
    "def fun():\n",
    "    for i in range(20):\n",
    "        yield i*2\n",
    "data=fun()\n",
    "for val in data:\n",
    "    print(val)"
   ]
  },
  {
   "cell_type": "code",
   "execution_count": 131,
   "metadata": {},
   "outputs": [
    {
     "name": "stdout",
     "output_type": "stream",
     "text": [
      "heeello\n",
      "No of e using yield =3\n",
      "No of e using return =1\n"
     ]
    }
   ],
   "source": [
    "#return(runs only 1 time)vs yield(runs multiple times)\n",
    "def returnres(string):\n",
    "    for i in string:\n",
    "        if i == \"e\":\n",
    "            return i\n",
    "def yieldres(string):\n",
    "    for i in string:\n",
    "        if i == \"e\":\n",
    "            yield i      \n",
    "string = input()\n",
    "ans = 0\n",
    "ans1=0\n",
    "print(\"No of e using yield =\",end=\"\")\n",
    "string = string.strip()\n",
    "for j in yieldres(string):\n",
    "    ans = ans+1\n",
    "print(ans)\n",
    "print(\"No of e using return =\",end=\"\")\n",
    "string = string.strip()\n",
    "for j in returnres(string):\n",
    "    ans1 = ans1+1\n",
    "print(ans1)"
   ]
  },
  {
   "cell_type": "code",
   "execution_count": 135,
   "metadata": {},
   "outputs": [
    {
     "data": {
      "text/plain": [
       "10"
      ]
     },
     "execution_count": 135,
     "metadata": {},
     "output_type": "execute_result"
    }
   ],
   "source": [
    "obj = open(\"sample.txt\",\"a\")\n",
    "obj.write(\"Hi\")\n",
    "obj.write(\"second line\")\n",
    "obj.write(\"third line\")\n"
   ]
  },
  {
   "cell_type": "code",
   "execution_count": 141,
   "metadata": {},
   "outputs": [
    {
     "name": "stdout",
     "output_type": "stream",
     "text": [
      "Hisecond linethird lineHisecond linethird lineHisecond linethird line\n"
     ]
    }
   ],
   "source": [
    "obj= open(\"sample.txt\",'r+')\n",
    "for row in obj:\n",
    "    print(row)"
   ]
  },
  {
   "cell_type": "code",
   "execution_count": 142,
   "metadata": {},
   "outputs": [],
   "source": [
    "obj.close()"
   ]
  },
  {
   "cell_type": "code",
   "execution_count": 143,
   "metadata": {},
   "outputs": [
    {
     "data": {
      "text/plain": [
       "<_io.TextIOWrapper name='sample.txt' mode='r+' encoding='cp1252'>"
      ]
     },
     "execution_count": 143,
     "metadata": {},
     "output_type": "execute_result"
    }
   ],
   "source": [
    "obj"
   ]
  },
  {
   "cell_type": "code",
   "execution_count": 158,
   "metadata": {},
   "outputs": [],
   "source": [
    "#wwritig numbrs to a file\n",
    "obj1 = open(\"sample.txt\",\"w\")\n",
    "for i in range(1,21):\n",
    "    obj1.write(str(i))\n",
    "    obj1.write(\"\\n\")"
   ]
  },
  {
   "cell_type": "code",
   "execution_count": null,
   "metadata": {},
   "outputs": [],
   "source": [
    "#wap to read the contents of a file Grades.txt and calculate the total\n",
    "#marks and percentage obtained by a student.\n",
    "\n"
   ]
  },
  {
   "cell_type": "code",
   "execution_count": 179,
   "metadata": {},
   "outputs": [
    {
     "name": "stdout",
     "output_type": "stream",
     "text": [
      "Total no of students 3\n",
      "Student 1['60', '70', '80', '90', '100']\n",
      "total 400 perc 80.0\n",
      "Student 2['40', '50', '60', '70', '80']\n",
      "total 700 perc 140.0\n",
      "Student 3['10', '20', '30', '40', '50']\n",
      "total 850 perc 170.0\n"
     ]
    }
   ],
   "source": [
    "obj1 = open(\"sample1.txt\",\"r\")\n",
    "n = int(obj1.readline())\n",
    "print(\"Total no of students\",n)\n",
    "sum1=0\n",
    "for i in range(n):\n",
    "    print(\"Student\",i+1,end=\"\")\n",
    "    allgrades = obj1.readline().split()\n",
    "    print(allgrades)\n",
    "    for j in range(len(allgrades)):\n",
    "        sum1 += int(allgrades[j])\n",
    "        perc = float((sum1/500)*100)\n",
    "    print('total',sum1,'perc',perc)"
   ]
  },
  {
   "cell_type": "code",
   "execution_count": 221,
   "metadata": {},
   "outputs": [
    {
     "name": "stdout",
     "output_type": "stream",
     "text": [
      "Hi iChangevanithis is a new linehow about coffee\n"
     ]
    }
   ],
   "source": [
    "#seek func\n",
    "with open(\"sample.txt\",\"w+\") as obj1 : \n",
    "    obj1.writelines([\"Hi i am dhvani\",\"this is a new line\",\"how about coffee\"])\n",
    "    #obj1.write(\"\\n hello there\")\n",
    "    obj1.seek(4)\n",
    "    obj1.write(\"Change\")\n",
    "    obj1.seek(0)\n",
    "    content = obj1.read()\n",
    "    print(content)"
   ]
  },
  {
   "cell_type": "code",
   "execution_count": null,
   "metadata": {},
   "outputs": [],
   "source": []
  }
 ],
 "metadata": {
  "kernelspec": {
   "display_name": "Python 3",
   "language": "python",
   "name": "python3"
  },
  "language_info": {
   "codemirror_mode": {
    "name": "ipython",
    "version": 3
   },
   "file_extension": ".py",
   "mimetype": "text/x-python",
   "name": "python",
   "nbconvert_exporter": "python",
   "pygments_lexer": "ipython3",
   "version": "3.7.4"
  }
 },
 "nbformat": 4,
 "nbformat_minor": 2
}
