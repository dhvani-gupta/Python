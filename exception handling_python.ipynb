{
 "cells": [
  {
   "cell_type": "code",
   "execution_count": 7,
   "metadata": {},
   "outputs": [
    {
     "name": "stdout",
     "output_type": "stream",
     "text": [
      "error invalid mode: 'rbb'\n",
      "prog executed\n"
     ]
    }
   ],
   "source": [
    "#try-except-finally\n",
    "try:\n",
    "    with open(\"example.txt\",\"rbb\") as obj:\n",
    "        content = obj.read()\n",
    "        print(content)\n",
    "except FileNotFoundError:\n",
    "        print(\"Missing file\")\n",
    "except PermissionError:\n",
    "    print(\"No permission\")\n",
    "except Exception as e:\n",
    "    print(\"error\",e)\n",
    "finally:\n",
    "    print(\"prog executed\")"
   ]
  },
  {
   "cell_type": "code",
   "execution_count": 11,
   "metadata": {},
   "outputs": [
    {
     "name": "stdout",
     "output_type": "stream",
     "text": [
      "234\n",
      "abc\n",
      "Error:Invalid Inp\n"
     ]
    }
   ],
   "source": [
    "#try-except\n",
    "try:\n",
    "    num1 = int(input())\n",
    "    num2=int(input())\n",
    "    res = num1/num2\n",
    "    print(res)\n",
    "except ValueError:\n",
    "    print(\"Error:Invalid Inp\")\n",
    "except ZeroDivisionError:\n",
    "    print(\"Error:Cant divide by 0\")"
   ]
  },
  {
   "cell_type": "code",
   "execution_count": 13,
   "metadata": {},
   "outputs": [
    {
     "name": "stdout",
     "output_type": "stream",
     "text": [
      "4\n",
      "r\n",
      "Error:Invalid Inp\n",
      "hellooooooo\n"
     ]
    }
   ],
   "source": [
    "#try-except\n",
    "try:\n",
    "    num1 = int(input())\n",
    "    num2=int(input())\n",
    "    res = num1/num2\n",
    "    print(res)\n",
    "except ValueError:\n",
    "    print(\"Error:Invalid Inp\")\n",
    "except ZeroDivisionError:\n",
    "    print(\"Error:Cant divide by 0\")\n",
    "finally:\n",
    "    print(\"hellooooooo\")"
   ]
  },
  {
   "cell_type": "code",
   "execution_count": 14,
   "metadata": {},
   "outputs": [
    {
     "name": "stdout",
     "output_type": "stream",
     "text": [
      "Error message: An error occurred.\n",
      "Error code: 500\n"
     ]
    }
   ],
   "source": [
    "#raise\n",
    "class MyException(Exception):\n",
    "    def __init__(self, message, code):\n",
    "        super().__init__(message)\n",
    "        self.code = code\n",
    "\n",
    "try:\n",
    "    raise MyException(\"An error occurred.\", 500)\n",
    "except MyException as e:\n",
    "    print(\"Error message:\", e)\n",
    "    print(\"Error code:\", e.code)"
   ]
  },
  {
   "cell_type": "code",
   "execution_count": 17,
   "metadata": {},
   "outputs": [
    {
     "name": "stdout",
     "output_type": "stream",
     "text": [
      "5.0\n"
     ]
    },
    {
     "ename": "ZeroDivisionError",
     "evalue": "division by zero",
     "output_type": "error",
     "traceback": [
      "\u001b[1;31m---------------------------------------------------------------------------\u001b[0m",
      "\u001b[1;31mZeroDivisionError\u001b[0m                         Traceback (most recent call last)",
      "\u001b[1;32m<ipython-input-17-e8232bc985ca>\u001b[0m in \u001b[0;36m<module>\u001b[1;34m\u001b[0m\n\u001b[0;32m      3\u001b[0m     \u001b[1;32mreturn\u001b[0m \u001b[0ma\u001b[0m\u001b[1;33m/\u001b[0m\u001b[0mb\u001b[0m\u001b[1;33m\u001b[0m\u001b[1;33m\u001b[0m\u001b[0m\n\u001b[0;32m      4\u001b[0m \u001b[0mprint\u001b[0m\u001b[1;33m(\u001b[0m\u001b[0mdiv\u001b[0m\u001b[1;33m(\u001b[0m\u001b[1;36m10\u001b[0m\u001b[1;33m,\u001b[0m\u001b[1;36m2\u001b[0m\u001b[1;33m)\u001b[0m\u001b[1;33m)\u001b[0m\u001b[1;33m\u001b[0m\u001b[1;33m\u001b[0m\u001b[0m\n\u001b[1;32m----> 5\u001b[1;33m \u001b[0mprint\u001b[0m\u001b[1;33m(\u001b[0m\u001b[0mdiv\u001b[0m\u001b[1;33m(\u001b[0m\u001b[1;36m10\u001b[0m\u001b[1;33m/\u001b[0m\u001b[1;36m0\u001b[0m\u001b[1;33m)\u001b[0m\u001b[1;33m)\u001b[0m\u001b[1;33m\u001b[0m\u001b[1;33m\u001b[0m\u001b[0m\n\u001b[0m",
      "\u001b[1;31mZeroDivisionError\u001b[0m: division by zero"
     ]
    }
   ],
   "source": [
    "def div(a,b):\n",
    "    assert b!= 0,\"division by zero\"\n",
    "    return a/b\n",
    "print(div(10,2))\n",
    "print(div(10/0))"
   ]
  },
  {
   "cell_type": "code",
   "execution_count": 18,
   "metadata": {},
   "outputs": [
    {
     "name": "stdout",
     "output_type": "stream",
     "text": [
      "error occured\n"
     ]
    }
   ],
   "source": [
    "#multiple exceptions\n",
    "try:\n",
    "    a =10/0\n",
    "    b = int(\"abc\")\n",
    "except (ValueError , ZeroDivisionError):\n",
    "    print(\"error occured\")"
   ]
  },
  {
   "cell_type": "code",
   "execution_count": null,
   "metadata": {},
   "outputs": [],
   "source": []
  }
 ],
 "metadata": {
  "kernelspec": {
   "display_name": "Python 3",
   "language": "python",
   "name": "python3"
  },
  "language_info": {
   "codemirror_mode": {
    "name": "ipython",
    "version": 3
   },
   "file_extension": ".py",
   "mimetype": "text/x-python",
   "name": "python",
   "nbconvert_exporter": "python",
   "pygments_lexer": "ipython3",
   "version": "3.7.4"
  }
 },
 "nbformat": 4,
 "nbformat_minor": 2
}
