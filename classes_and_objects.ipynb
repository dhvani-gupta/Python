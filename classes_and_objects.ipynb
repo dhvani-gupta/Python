{
 "cells": [
  {
   "cell_type": "code",
   "execution_count": 2,
   "metadata": {},
   "outputs": [
    {
     "name": "stdout",
     "output_type": "stream",
     "text": [
      "myfirstclass\n",
      "<__main__.Demo object at 0x00000200DACCD188>\n"
     ]
    }
   ],
   "source": [
    "class Demo:\n",
    "    print(\"myfirstclass\")\n",
    "D1= Demo()\n",
    "print(D1) #-> The last print statement is used to display the address of the\n",
    "#computer’s memory where the object ‘D’ is stored."
   ]
  },
  {
   "cell_type": "code",
   "execution_count": 6,
   "metadata": {},
   "outputs": [
    {
     "name": "stdout",
     "output_type": "stream",
     "text": [
      "5 6\n",
      "30\n"
     ]
    }
   ],
   "source": [
    "#accessing attributes\n",
    "class Rectangle:\n",
    "    length,breadth = map(int,input().split())\n",
    "R1= Rectangle()\n",
    "area= R1.length*R1.breadth\n",
    "print(area)"
   ]
  },
  {
   "cell_type": "code",
   "execution_count": 13,
   "metadata": {},
   "outputs": [
    {
     "name": "stdout",
     "output_type": "stream",
     "text": [
      "Area before assignment: 0\n",
      "Enter L:\n",
      "5\n",
      "Enter B:\n",
      "6\n",
      "Area after assignment: 30\n"
     ]
    }
   ],
   "source": [
    "#assigning value to attributes\n",
    "class Rect:\n",
    "    l = 0\n",
    "    b = 0\n",
    "r1 = Rect()\n",
    "area = r1.l*r1.b\n",
    "print(\"Area before assignment:\",area)\n",
    "print(\"Enter L:\") \n",
    "r1.l=int(input())\n",
    "print(\"Enter B:\")\n",
    "r1.b = int(input())\n",
    "area = r1.l*r1.b\n",
    "print(\"Area after assignment:\",area)"
   ]
  },
  {
   "cell_type": "code",
   "execution_count": 15,
   "metadata": {},
   "outputs": [
    {
     "name": "stdout",
     "output_type": "stream",
     "text": [
      "Inside class\n"
     ]
    }
   ],
   "source": [
    "#self param and class methods\n",
    "class Demo:\n",
    "    def display(self):\n",
    "        print(\"Inside class\")\n",
    "d1= Demo()\n",
    "d1.display()"
   ]
  },
  {
   "cell_type": "code",
   "execution_count": 18,
   "metadata": {},
   "outputs": [
    {
     "name": "stdout",
     "output_type": "stream",
     "text": [
      "local x 30\n",
      "instance x 30\n"
     ]
    }
   ],
   "source": [
    "#method where instance var is hidden by local var\n",
    "class Demo:\n",
    "    x = 5\n",
    "    def dis(self,x):\n",
    "        x = 30\n",
    "        print(\"local x\",x)\n",
    "        print(\"instance x\",x)\n",
    "obj = Demo()\n",
    "#obj.x = 10\n",
    "obj.dis(50)\n"
   ]
  },
  {
   "cell_type": "code",
   "execution_count": 20,
   "metadata": {},
   "outputs": [
    {
     "name": "stdout",
     "output_type": "stream",
     "text": [
      "local x 30\n",
      "instance x 10\n"
     ]
    }
   ],
   "source": [
    "#method where self.x unhides the instance\n",
    "class Demo:\n",
    "    x = 5\n",
    "    def dis(self,x):\n",
    "        x = 30\n",
    "        print(\"local x\",x)\n",
    "        print(\"instance x\",self.x)\n",
    "obj = Demo()\n",
    "obj.x = 10 #this reassigns the attribute x of class demo\n",
    "obj.dis(50)\n"
   ]
  },
  {
   "cell_type": "code",
   "execution_count": 29,
   "metadata": {},
   "outputs": [
    {
     "name": "stdout",
     "output_type": "stream",
     "text": [
      "insideB\n",
      "InsideA\n"
     ]
    }
   ],
   "source": [
    "#method call inside another method\n",
    "class demo:\n",
    "    x=10\n",
    "    def methodA(self):\n",
    "        print(\"InsideA\")\n",
    "        #self.methodB() -> will create a infinite loop where both methods keep kapping each other\n",
    "    def methodB(self):\n",
    "        print(\"insideB\")\n",
    "        self.methodA()\n",
    "d1 = demo()\n",
    "d1.methodB()"
   ]
  },
  {
   "cell_type": "code",
   "execution_count": 30,
   "metadata": {},
   "outputs": [
    {
     "data": {
      "text/plain": [
       "['__class__',\n",
       " '__delattr__',\n",
       " '__dict__',\n",
       " '__dir__',\n",
       " '__doc__',\n",
       " '__eq__',\n",
       " '__format__',\n",
       " '__ge__',\n",
       " '__getattribute__',\n",
       " '__gt__',\n",
       " '__hash__',\n",
       " '__init__',\n",
       " '__init_subclass__',\n",
       " '__le__',\n",
       " '__lt__',\n",
       " '__module__',\n",
       " '__ne__',\n",
       " '__new__',\n",
       " '__reduce__',\n",
       " '__reduce_ex__',\n",
       " '__repr__',\n",
       " '__setattr__',\n",
       " '__sizeof__',\n",
       " '__str__',\n",
       " '__subclasshook__',\n",
       " '__weakref__',\n",
       " 'methodA',\n",
       " 'methodB',\n",
       " 'x']"
      ]
     },
     "execution_count": 30,
     "metadata": {},
     "output_type": "execute_result"
    }
   ],
   "source": [
    "#rinting class attributes and methods\n",
    "dir(demo)"
   ]
  },
  {
   "cell_type": "code",
   "execution_count": 39,
   "metadata": {},
   "outputs": [
    {
     "name": "stdout",
     "output_type": "stream",
     "text": [
      "DHVANI\n",
      "21\n",
      "Dhvani\n",
      "21\n",
      "['_Demo__info', '__class__', '__delattr__', '__dict__', '__dir__', '__doc__', '__eq__', '__format__', '__ge__', '__getattribute__', '__gt__', '__hash__', '__init__', '__init_subclass__', '__le__', '__lt__', '__module__', '__ne__', '__new__', '__reduce__', '__reduce_ex__', '__repr__', '__setattr__', '__sizeof__', '__str__', '__subclasshook__', '__weakref__', 'age', 'info_upper', 'name']\n",
      "Using __dict__\n",
      "{'__module__': '__main__', 'name': 'Dhvani', 'age': 21, '_Demo__info': <function Demo.__info at 0x00000200DB00B5E8>, 'info_upper': <function Demo.info_upper at 0x00000200DB00B798>, '__dict__': <attribute '__dict__' of 'Demo' objects>, '__weakref__': <attribute '__weakref__' of 'Demo' objects>, '__doc__': None}\n"
     ]
    }
   ],
   "source": [
    "class Demo:\n",
    "    name = \"Dhvani\"\n",
    "    age = 21\n",
    "    def __info(self): #private function because of __ in front of name\n",
    "        print(self.name)\n",
    "        print(self.age)\n",
    "    def info_upper(self):\n",
    "        print(self.name.upper())\n",
    "        print(self.age)\n",
    "        self.__info()\n",
    "d1= Demo()\n",
    "d1.info_upper()\n",
    "print(dir(Demo))\n",
    "print(\"Using __dict__\")\n",
    "print(Demo.__dict__)"
   ]
  },
  {
   "cell_type": "code",
   "execution_count": 47,
   "metadata": {},
   "outputs": [
    {
     "name": "stdout",
     "output_type": "stream",
     "text": [
      "Name is a public attribute Dhvani\n",
      "Name: Dhvani\n",
      "Age: 21\n"
     ]
    }
   ],
   "source": [
    "#using __init__\n",
    "class Demo:\n",
    "    def __init__(self,name):\n",
    "        self.name = name\n",
    "        self.__age = 21 #private attribute\n",
    "    def display(self):\n",
    "        print(\"Name:\",self.name)\n",
    "        print(\"Age:\",self.__age)\n",
    "d = Demo(\"Dhvani\")\n",
    "print(\"Name is a public attribute\",d.name)\n",
    "#print(\"Age is a priv attribute\",d.__age) #Since __age is priv=> Error:'Demo' object has no attribute '__age'\n",
    "d.display() #a friendly method can access the priv attributes."
   ]
  },
  {
   "cell_type": "code",
   "execution_count": 56,
   "metadata": {},
   "outputs": [
    {
     "name": "stdout",
     "output_type": "stream",
     "text": [
      "Enter Radius:5\n",
      "78.5\n"
     ]
    }
   ],
   "source": [
    "#initializing attributes by values give by user\n",
    "class Circle:\n",
    "    rad = 0\n",
    "    pi =0\n",
    "    def __init__(self,rad):\n",
    "        self.pi = 3.14\n",
    "        self.rad = rad\n",
    "    def calc_area(self):\n",
    "        return self.pi*self.rad**2\n",
    "n = int(input(\"Enter Radius:\"))\n",
    "circle = Circle(n)\n",
    "print(circle.calc_area())"
   ]
  },
  {
   "cell_type": "code",
   "execution_count": 63,
   "metadata": {},
   "outputs": [
    {
     "name": "stdout",
     "output_type": "stream",
     "text": [
      "False\n"
     ]
    }
   ],
   "source": [
    "#passing objects of a class as a paramter to a func of that class\n",
    "class Test:\n",
    "    a = 0\n",
    "    b = 0\n",
    "    def __init__(self,x,y):\n",
    "        self.a = x\n",
    "        self.b = y\n",
    "    def equals(self,obj): #we are passing obj as an arg here.\n",
    "        if(obj.a == self.a and obj.b == self.b): #here obj is the object that was passed as an arg and self is the initial obj which is used to call the function.\n",
    "            return True\n",
    "        else:\n",
    "            return False\n",
    "obj1 = Test(10,20)\n",
    "obj2= Test(20,10)\n",
    "obj3 = Test(10,30)\n",
    "print(obj2.equals(obj1))\n",
    "        "
   ]
  },
  {
   "cell_type": "code",
   "execution_count": 78,
   "metadata": {},
   "outputs": [
    {
     "name": "stdout",
     "output_type": "stream",
     "text": [
      "Hi\n",
      "2202696825544\n",
      "2202696825544\n",
      "2202696825544\n",
      "Destructor Executed Successfully\n"
     ]
    }
   ],
   "source": [
    "#destructor\n",
    "class Demo:\n",
    "    def __init__(self):\n",
    "        print(\"Hi\")\n",
    "    def __del__(self):\n",
    "        print(\"Destructor Executed Successfully\")\n",
    "obj1 = Demo()\n",
    "obj2 = obj1\n",
    "obj3 = obj1\n",
    "print(id(obj1))\n",
    "print(id(obj2))\n",
    "print(id(obj3))\n",
    "del(obj2) #destructor will be envoked only when all the instances have been deleted\n",
    "del(obj3)\n",
    "del(obj1)\n",
    "#print(id(obj1)) #since obj has been deleted, error = name 'obj1' is not defined"
   ]
  },
  {
   "cell_type": "code",
   "execution_count": 79,
   "metadata": {},
   "outputs": [
    {
     "name": "stdout",
     "output_type": "stream",
     "text": [
      "Hi\n",
      "Destructor Executed Successfully\n"
     ]
    },
    {
     "data": {
      "text/plain": [
       "True"
      ]
     },
     "execution_count": 79,
     "metadata": {},
     "output_type": "execute_result"
    }
   ],
   "source": [
    "obj4 = Demo()\n",
    "isinstance(obj4,Demo)"
   ]
  },
  {
   "cell_type": "code",
   "execution_count": 95,
   "metadata": {},
   "outputs": [
    {
     "name": "stdout",
     "output_type": "stream",
     "text": [
      "30\n",
      "hitherewelcome\n"
     ]
    }
   ],
   "source": [
    "#method overloading\n",
    "class MethodOverloading:\n",
    "    res = 0\n",
    "    def add(self,instanceOf = None,*args):\n",
    "        if instanceOf == 'int':\n",
    "            self.res = 0\n",
    "        if instanceOf == 'str':\n",
    "            self.res = ''\n",
    "        for i in args:\n",
    "            self.res = self.res+i\n",
    "        return self.res\n",
    "add1 = MethodOverloading()\n",
    "#add2 = MethodOverloading()\n",
    "print(add1.add(\"int\",10,20))\n",
    "print(add1.add(\"str\",\"hi\",\"there\",\"welcome\"))\n",
    "\n",
    "        "
   ]
  },
  {
   "cell_type": "code",
   "execution_count": 97,
   "metadata": {},
   "outputs": [
    {
     "name": "stdout",
     "output_type": "stream",
     "text": [
      "6\n",
      "12\n"
     ]
    }
   ],
   "source": [
    "\n",
    "#method overloading using dispatch\n",
    "from multipledispatch import dispatch\n",
    " \n",
    "# passing one parameter\n",
    " \n",
    " \n",
    "@dispatch(int, int)\n",
    "def product(first, second):\n",
    "    result = first*second\n",
    "    print(result)\n",
    " \n",
    "# passing two parameters\n",
    " \n",
    " \n",
    "@dispatch(int, int, int)\n",
    "def product(first, second, third):\n",
    "    result = first * second * third\n",
    "    print(result)\n",
    "    \n",
    "product(2, 3)  # this will give output of 6\n",
    " \n",
    "# calling product method with 3 arguments but all int\n",
    "product(2, 3, 2)"
   ]
  },
  {
   "cell_type": "code",
   "execution_count": 102,
   "metadata": {},
   "outputs": [
    {
     "name": "stdout",
     "output_type": "stream",
     "text": [
      "hi\n",
      "hi\n",
      "hihi\n"
     ]
    }
   ],
   "source": [
    "#operator overloading\n",
    "class OpOver:\n",
    "    def __init__(self,x):\n",
    "        self.x = x\n",
    "    def __add__(self,other):\n",
    "        print(self.x)\n",
    "        print(other.x)\n",
    "        return self.x+other.x\n",
    "obj1 = OpOver(\"hi\")\n",
    "obj2 = OpOver(\"hi\")\n",
    "obj3 = obj1 +obj2\n",
    "print(obj3)"
   ]
  },
  {
   "cell_type": "code",
   "execution_count": 106,
   "metadata": {},
   "outputs": [
    {
     "name": "stdout",
     "output_type": "stream",
     "text": [
      "10\n",
      "20\n",
      "10 < 20\n",
      "True\n",
      "10 > 20\n",
      "False\n",
      "10 <= 20\n",
      "True\n"
     ]
    }
   ],
   "source": [
    "class opOver:\n",
    "    def __init__(self,x):\n",
    "        self.x = x\n",
    "    def __lt__(self,obj):\n",
    "        print(self.x)\n",
    "        print(obj.x)\n",
    "        print(self.x,\"<\",obj.x)\n",
    "        return self.x<obj.x\n",
    "    def __gt__(self,obj):\n",
    "        print(self.x,\">\",obj.x)\n",
    "        return self.x>obj.x\n",
    "    def __le__(self,obj):\n",
    "        print(self.x,\"<=\",obj.x)\n",
    "        return self.x<=obj.x\n",
    "    \n",
    "obj1= opOver(10)\n",
    "obj2 = opOver(20)\n",
    "print(obj1<obj2)\n",
    "print(obj1>obj2)\n",
    "print(obj1<=obj2)\n",
    "        "
   ]
  },
  {
   "cell_type": "markdown",
   "metadata": {},
   "source": [
    "# Inheritance\n"
   ]
  },
  {
   "cell_type": "code",
   "execution_count": 107,
   "metadata": {},
   "outputs": [
    {
     "name": "stdout",
     "output_type": "stream",
     "text": [
      "Hi\n",
      "hello\n"
     ]
    }
   ],
   "source": [
    "class Base:\n",
    "    print(\"Hi\")\n",
    "class Child(Base):\n",
    "    print(\"hello\")\n",
    "c = Child()"
   ]
  },
  {
   "cell_type": "code",
   "execution_count": 121,
   "metadata": {},
   "outputs": [
    {
     "name": "stdout",
     "output_type": "stream",
     "text": [
      "Dhvani\n",
      "191203005\n",
      "900000\n",
      "Intern\n"
     ]
    }
   ],
   "source": [
    "class Base:\n",
    "    def __init__(self,name,idnum):\n",
    "        self.name = name\n",
    "        self.idnum=idnum\n",
    "    def disp(self):\n",
    "        print(self.name)\n",
    "        print(self.idnum)\n",
    "class child(Base):\n",
    "    def __init__(self,name,idnum,salary,post):\n",
    "        self.salary = salary\n",
    "        self.post = post\n",
    "        #Base.__init__(self,name,idnum)\n",
    "        super().__init__(name,idnum) #super() is used to call objects that represent the parent class\n",
    "a = child(\"Dhvani\",191203005,900000,\"Intern\")\n",
    "a.disp()\n",
    "print(a.salary)\n",
    "print(a.post)"
   ]
  },
  {
   "cell_type": "code",
   "execution_count": 115,
   "metadata": {},
   "outputs": [
    {
     "name": "stdout",
     "output_type": "stream",
     "text": [
      "inside base\n",
      "inside child\n",
      "10 on x axis\n",
      "20 on y axis\n"
     ]
    }
   ],
   "source": [
    "class Base:\n",
    "    print(\"inside base\")\n",
    "    def set_coord(self,x,y):\n",
    "        self.x=x\n",
    "        self.y = y\n",
    "class child(Base):\n",
    "    print(\"inside child\")\n",
    "    def draw(self):\n",
    "        print(self.x,\"on x axis\")\n",
    "        print(self.y,\"on y axis\")\n",
    "p =child()\n",
    "p.set_coord(10,20)\n",
    "p.draw()"
   ]
  },
  {
   "cell_type": "code",
   "execution_count": 117,
   "metadata": {},
   "outputs": [
    {
     "name": "stdout",
     "output_type": "stream",
     "text": [
      "Enter following\n",
      "Enter name:dh\n",
      "Enter age:78\n",
      "Enter height:99\n",
      "Enter weight:87\n",
      "dh\n",
      "78\n",
      "99\n",
      "87\n"
     ]
    }
   ],
   "source": [
    "#multilevel inheritance\n",
    "\n",
    "class a:\n",
    "    name = ''\n",
    "    age = 0\n",
    "class b(a):\n",
    "    height = ''\n",
    "class c(b):\n",
    "    weight = ''\n",
    "    def read(self):\n",
    "        print(\"Enter following\")\n",
    "        self.name = input(\"Enter name:\")\n",
    "        self.age = input(\"Enter age:\")\n",
    "        self.height = input(\"Enter height:\")\n",
    "        self.weight = input(\"Enter weight:\")\n",
    "    def disp(self):\n",
    "        print(self.name)\n",
    "        print(self.age)\n",
    "        print(self.height)\n",
    "        print(self.weight)\n",
    "        \n",
    "obj = c()\n",
    "obj.read()\n",
    "obj.disp()"
   ]
  },
  {
   "cell_type": "code",
   "execution_count": 118,
   "metadata": {},
   "outputs": [
    {
     "name": "stdout",
     "output_type": "stream",
     "text": [
      "enter a:4\n",
      "enter b:6\n",
      "enter c:8\n",
      "4\n",
      "6\n",
      "8\n"
     ]
    }
   ],
   "source": [
    "#multiple inheritance\n",
    "class a:\n",
    "    a =0\n",
    "class b:\n",
    "    b=0\n",
    "class c(a,b):\n",
    "    c = 0\n",
    "    def read(self):\n",
    "        self.a=int(input(\"enter a:\"))\n",
    "        self.b=int(input(\"enter b:\"))\n",
    "        self.c=int(input(\"enter c:\"))\n",
    "    def disp(self):\n",
    "        print(self.a)\n",
    "        print(self.b)\n",
    "        print(self.c)\n",
    "obj = c()\n",
    "obj.read()\n",
    "obj.disp()"
   ]
  },
  {
   "cell_type": "code",
   "execution_count": 122,
   "metadata": {},
   "outputs": [
    {
     "name": "stdout",
     "output_type": "stream",
     "text": [
      "dh\n",
      "21\n"
     ]
    }
   ],
   "source": [
    "#using super()\n",
    "class base:\n",
    "    def __init__(self,name,age):\n",
    "        self.name = name\n",
    "        self.age = age\n",
    "    def disp(self):\n",
    "        print(self.name)\n",
    "        print(self.age)\n",
    "class child(base):\n",
    "    def __init__(self,name,age,post):\n",
    "        self.post = post\n",
    "        super().__init__(name,age)\n",
    "c = child(\"dh\",21,\"intern\")\n",
    "c.disp()"
   ]
  },
  {
   "cell_type": "code",
   "execution_count": 126,
   "metadata": {},
   "outputs": [
    {
     "name": "stdout",
     "output_type": "stream",
     "text": [
      "hello\n",
      "hi\n"
     ]
    }
   ],
   "source": [
    "#method overriding \n",
    "class base:\n",
    "    def greet(self):\n",
    "        print(\"hi\")\n",
    "class child(base):\n",
    "    def greet(self):\n",
    "        print(\"hello\")\n",
    "        super().greet()\n",
    "c = child()\n",
    "c.greet()"
   ]
  },
  {
   "cell_type": "code",
   "execution_count": 127,
   "metadata": {},
   "outputs": [
    {
     "name": "stdout",
     "output_type": "stream",
     "text": [
      "in c\n",
      "in b\n",
      "in a\n"
     ]
    }
   ],
   "source": [
    "#method overriding in multilevel inheritance\n",
    "class a:\n",
    "    def greet(self):\n",
    "        print(\"in a\")\n",
    "class b(a):\n",
    "    def greet(self):\n",
    "        print(\"in b\")\n",
    "        super().greet()\n",
    "class c(b):\n",
    "    def greet(self):\n",
    "        print(\"in c\")\n",
    "        super().greet()\n",
    "c = c()\n",
    "c.greet()"
   ]
  },
  {
   "cell_type": "code",
   "execution_count": 133,
   "metadata": {},
   "outputs": [
    {
     "name": "stdout",
     "output_type": "stream",
     "text": [
      "in d\n",
      "in b\n",
      "in c\n",
      "in a\n"
     ]
    }
   ],
   "source": [
    "#method overriding in multiple inheritance\n",
    "\n",
    "class a :\n",
    "    def greet(self):\n",
    "        print(\"in a\")\n",
    "class b(a):\n",
    "    def greet(self):\n",
    "        print(\"in b\")\n",
    "        #print(\"a from b\")\n",
    "        super().greet()\n",
    "class c(a):\n",
    "    def greet(self):\n",
    "        print(\"in c\")\n",
    "        #print(\"a from c\")\n",
    "        super().greet()\n",
    "class d(b,c):\n",
    "    def greet(self):\n",
    "        print(\"in d\")\n",
    "        super().greet()\n",
    "obj = d()\n",
    "obj.greet()"
   ]
  },
  {
   "cell_type": "code",
   "execution_count": 143,
   "metadata": {},
   "outputs": [
    {
     "name": "stdout",
     "output_type": "stream",
     "text": [
      "meow\n",
      "meow\n",
      "woof\n"
     ]
    }
   ],
   "source": [
    "class Animal:\n",
    "    def make_sound(self):\n",
    "        print(\"some sound\")\n",
    "class Dog(Animal):\n",
    "    def make_sound(self):\n",
    "        print(\"woof\")\n",
    "class Cat(Animal):\n",
    "    def make_sound(self):\n",
    "        print(\"meow\")\n",
    "\n",
    "animals = [Cat(),Dog()]\n",
    "make_sound(Cat())\n",
    "for animal in animals:\n",
    "    make_sound(animal)"
   ]
  },
  {
   "cell_type": "code",
   "execution_count": 148,
   "metadata": {},
   "outputs": [
    {
     "name": "stdout",
     "output_type": "stream",
     "text": [
      "(20, 10)\n"
     ]
    }
   ],
   "source": []
  },
  {
   "cell_type": "code",
   "execution_count": null,
   "metadata": {},
   "outputs": [],
   "source": []
  }
 ],
 "metadata": {
  "kernelspec": {
   "display_name": "Python 3",
   "language": "python",
   "name": "python3"
  },
  "language_info": {
   "codemirror_mode": {
    "name": "ipython",
    "version": 3
   },
   "file_extension": ".py",
   "mimetype": "text/x-python",
   "name": "python",
   "nbconvert_exporter": "python",
   "pygments_lexer": "ipython3",
   "version": "3.7.4"
  }
 },
 "nbformat": 4,
 "nbformat_minor": 2
}
